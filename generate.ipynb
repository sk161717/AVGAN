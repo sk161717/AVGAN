{
 "cells": [
  {
   "cell_type": "code",
   "execution_count": 1,
   "metadata": {
    "scrolled": true
   },
   "outputs": [
    {
     "name": "stdout",
     "output_type": "stream",
     "text": [
      "[[3293 4372 3452 1488 3293  774 1592 3857 2790 4654 4388 2559 4503 1625\n",
      "  3248 2546 4051  498 4093    0]\n",
      " [3293  795 4154 1115 4388 2559   24  955 1811 4093    0    0    0    0\n",
      "     0    0    0    0    0    0]\n",
      " [3293 4317 4388 2559   24  955 2559  608  955 3293 2395 3822 1592 2224\n",
      "  2545 4093    0    0    0    0]\n",
      " [3293 2441  955 3271 1488 3293 4431 3822 1592 2044 1598 4093    0    0\n",
      "     0    0    0    0    0    0]\n",
      " [3293 2578 2869 1592 4269 3866  205 1801    0    0    0    0    0    0\n",
      "     0    0    0    0    0    0]]\n"
     ]
    }
   ],
   "source": [
    "from models.SeqGAN_G import SeqGAN_G\n",
    "import torch\n",
    "import numpy as np\n",
    "model=SeqGAN_G(32,32,4683,20,0)\n",
    "model.load_state_dict(torch.load('save/20201122/image_coco/seqgan_vanilla_dt-Ra_lt-rsgan_mt-ra_et-Ra_sl37_temp1_lfd0.0_T1122_1642_43/models/gen_MLE_00110.pt'))\n",
    "generated_data=np.array(model.eval().sample(5,64))\n",
    "print(generated_data)"
   ]
  },
  {
   "cell_type": "code",
   "execution_count": 6,
   "metadata": {},
   "outputs": [
    {
     "name": "stdout",
     "output_type": "stream",
     "text": [
      "['a bath bag in a bathroom with an odd lever on the toilet next to it s owner . ', 'a lively woman standing on the back of bicycles . ', 'a man on the back of the cart of a road topped with multiple steeples . ', 'a group of bikers in a park topped with blue seats . ', 'a subway station with tall trees and cars ']\n"
     ]
    }
   ],
   "source": [
    "import json\n",
    "with open('dataset/image_coco_iw_dict.txt','rb') as f:\n",
    "    words_dict=json.load(f)\n",
    "l = len(generated_data)\n",
    "sentences = []\n",
    "for list_ in generated_data:\n",
    "    s = ''\n",
    "    for index in list_:\n",
    "        if index==0 :\n",
    "            break\n",
    "        s+=words_dict[str(index)]\n",
    "        s+=\" \"\n",
    "    sentences.append(s)\n",
    "print(sentences)\n",
    "        \n",
    "    "
   ]
  },
  {
   "cell_type": "code",
   "execution_count": null,
   "metadata": {},
   "outputs": [],
   "source": []
  }
 ],
 "metadata": {
  "kernelspec": {
   "display_name": "Python 3",
   "language": "python",
   "name": "python3"
  },
  "language_info": {
   "codemirror_mode": {
    "name": "ipython",
    "version": 3
   },
   "file_extension": ".py",
   "mimetype": "text/x-python",
   "name": "python",
   "nbconvert_exporter": "python",
   "pygments_lexer": "ipython3",
   "version": "3.7.3"
  }
 },
 "nbformat": 4,
 "nbformat_minor": 2
}
